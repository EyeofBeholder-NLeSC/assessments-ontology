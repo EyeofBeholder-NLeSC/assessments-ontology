{
 "cells": [
  {
   "cell_type": "code",
   "execution_count": 9,
   "metadata": {},
   "outputs": [],
   "source": [
    "import csvw"
   ]
  },
  {
   "cell_type": "code",
   "execution_count": 10,
   "metadata": {},
   "outputs": [
    {
     "data": {
      "text/plain": [
       "<csvw.metadata.CSVW at 0x23a256f84c0>"
      ]
     },
     "execution_count": 10,
     "metadata": {},
     "output_type": "execute_result"
    }
   ],
   "source": [
    "data = csvw.CSVW('IPM_assessment.csv', 'metadata.json')\n",
    "data"
   ]
  },
  {
   "cell_type": "code",
   "execution_count": 11,
   "metadata": {},
   "outputs": [
    {
     "ename": "ValueError",
     "evalue": "Foregin key error: missing column \"unit_id\" or \"unit_id\"",
     "output_type": "error",
     "traceback": [
      "\u001b[1;31m---------------------------------------------------------------------------\u001b[0m",
      "\u001b[1;31mValueError\u001b[0m                                Traceback (most recent call last)",
      "File \u001b[1;32mc:\\Users\\DafnevanKuppevelt\\Anaconda3\\envs\\eye-of-beholder\\lib\\site-packages\\csvw\\metadata.py:1514\u001b[0m, in \u001b[0;36mTableGroup.check_referential_integrity\u001b[1;34m(self, data, log, strict)\u001b[0m\n\u001b[0;32m   1513\u001b[0m \u001b[39mtry\u001b[39;00m:\n\u001b[1;32m-> 1514\u001b[0m     \u001b[39mself\u001b[39;49m\u001b[39m.\u001b[39;49mvalidate_schema()\n\u001b[0;32m   1515\u001b[0m     success \u001b[39m=\u001b[39m \u001b[39mTrue\u001b[39;00m\n",
      "File \u001b[1;32mc:\\Users\\DafnevanKuppevelt\\Anaconda3\\envs\\eye-of-beholder\\lib\\site-packages\\csvw\\metadata.py:1489\u001b[0m, in \u001b[0;36mTableGroup.validate_schema\u001b[1;34m(self, strict)\u001b[0m\n\u001b[0;32m   1488\u001b[0m \u001b[39mif\u001b[39;00m \u001b[39mnot\u001b[39;00m (scolumn \u001b[39mand\u001b[39;00m tcolumn):\n\u001b[1;32m-> 1489\u001b[0m     \u001b[39mraise\u001b[39;00m \u001b[39mValueError\u001b[39;00m(\n\u001b[0;32m   1490\u001b[0m         \u001b[39m'\u001b[39m\u001b[39mForegin key error: missing column \u001b[39m\u001b[39m\"\u001b[39m\u001b[39m{}\u001b[39;00m\u001b[39m\"\u001b[39m\u001b[39m or \u001b[39m\u001b[39m\"\u001b[39m\u001b[39m{}\u001b[39;00m\u001b[39m\"\u001b[39m\u001b[39m'\u001b[39m\u001b[39m.\u001b[39mformat(scol, tcol))\n\u001b[0;32m   1491\u001b[0m \u001b[39mif\u001b[39;00m scolumn\u001b[39m.\u001b[39mdatatype \u001b[39mand\u001b[39;00m tcolumn\u001b[39m.\u001b[39mdatatype \u001b[39mand\u001b[39;00m \\\n\u001b[0;32m   1492\u001b[0m         scolumn\u001b[39m.\u001b[39mdatatype\u001b[39m.\u001b[39mbase \u001b[39m!=\u001b[39m tcolumn\u001b[39m.\u001b[39mdatatype\u001b[39m.\u001b[39mbase:\n",
      "\u001b[1;31mValueError\u001b[0m: Foregin key error: missing column \"unit_id\" or \"unit_id\"",
      "\nDuring handling of the above exception, another exception occurred:\n",
      "\u001b[1;31mValueError\u001b[0m                                Traceback (most recent call last)",
      "\u001b[1;32mc:\\Users\\DafnevanKuppevelt\\OneDrive - Netherlands eScience Center\\Documents 1\\code\\eye-of-beholder\\assessments-ontology\\validate.ipynb Cell 3\u001b[0m in \u001b[0;36m<cell line: 1>\u001b[1;34m()\u001b[0m\n\u001b[1;32m----> <a href='vscode-notebook-cell:/c%3A/Users/DafnevanKuppevelt/OneDrive%20-%20Netherlands%20eScience%20Center/Documents%201/code/eye-of-beholder/assessments-ontology/validate.ipynb#W2sZmlsZQ%3D%3D?line=0'>1</a>\u001b[0m data\u001b[39m.\u001b[39;49mis_valid\n",
      "File \u001b[1;32mc:\\Users\\DafnevanKuppevelt\\Anaconda3\\envs\\eye-of-beholder\\lib\\site-packages\\csvw\\metadata.py:1637\u001b[0m, in \u001b[0;36mCSVW.is_valid\u001b[1;34m(self)\u001b[0m\n\u001b[0;32m   1635\u001b[0m     \u001b[39mif\u001b[39;00m \u001b[39mnot\u001b[39;00m table\u001b[39m.\u001b[39mcheck_primary_key():  \u001b[39m# pragma: no cover\u001b[39;00m\n\u001b[0;32m   1636\u001b[0m         warnings\u001b[39m.\u001b[39mwarn(\u001b[39m'\u001b[39m\u001b[39mDuplicate primary key\u001b[39m\u001b[39m'\u001b[39m)\n\u001b[1;32m-> 1637\u001b[0m \u001b[39mif\u001b[39;00m \u001b[39mnot\u001b[39;00m \u001b[39mself\u001b[39;49m\u001b[39m.\u001b[39;49mtablegroup\u001b[39m.\u001b[39;49mcheck_referential_integrity(strict\u001b[39m=\u001b[39;49m\u001b[39mTrue\u001b[39;49;00m):\n\u001b[0;32m   1638\u001b[0m     warnings\u001b[39m.\u001b[39mwarn(\u001b[39m'\u001b[39m\u001b[39mReferential integrity check failed\u001b[39m\u001b[39m'\u001b[39m)\n\u001b[0;32m   1639\u001b[0m \u001b[39mif\u001b[39;00m w:\n",
      "File \u001b[1;32mc:\\Users\\DafnevanKuppevelt\\Anaconda3\\envs\\eye-of-beholder\\lib\\site-packages\\csvw\\metadata.py:1518\u001b[0m, in \u001b[0;36mTableGroup.check_referential_integrity\u001b[1;34m(self, data, log, strict)\u001b[0m\n\u001b[0;32m   1516\u001b[0m \u001b[39mexcept\u001b[39;00m \u001b[39mValueError\u001b[39;00m \u001b[39mas\u001b[39;00m e:\n\u001b[0;32m   1517\u001b[0m     success \u001b[39m=\u001b[39m \u001b[39mFalse\u001b[39;00m\n\u001b[1;32m-> 1518\u001b[0m     log_or_raise(\u001b[39mstr\u001b[39;49m(e), log\u001b[39m=\u001b[39;49mlog, level\u001b[39m=\u001b[39;49m\u001b[39m'\u001b[39;49m\u001b[39merror\u001b[39;49m\u001b[39m'\u001b[39;49m)\n\u001b[0;32m   1519\u001b[0m fkeys \u001b[39m=\u001b[39m \u001b[39mself\u001b[39m\u001b[39m.\u001b[39mforeign_keys()\n\u001b[0;32m   1520\u001b[0m \u001b[39m# FIXME: We only support Foreign Key references between tables!\u001b[39;00m\n",
      "File \u001b[1;32mc:\\Users\\DafnevanKuppevelt\\Anaconda3\\envs\\eye-of-beholder\\lib\\site-packages\\csvw\\metadata.py:192\u001b[0m, in \u001b[0;36mlog_or_raise\u001b[1;34m(msg, log, level, exception_cls)\u001b[0m\n\u001b[0;32m    190\u001b[0m     \u001b[39mgetattr\u001b[39m(log, level)(msg)\n\u001b[0;32m    191\u001b[0m \u001b[39melse\u001b[39;00m:\n\u001b[1;32m--> 192\u001b[0m     \u001b[39mraise\u001b[39;00m exception_cls(msg)\n",
      "\u001b[1;31mValueError\u001b[0m: Foregin key error: missing column \"unit_id\" or \"unit_id\""
     ]
    }
   ],
   "source": [
    "data.is_valid"
   ]
  },
  {
   "cell_type": "code",
   "execution_count": 4,
   "metadata": {},
   "outputs": [
    {
     "data": {
      "text/plain": [
       "2"
      ]
     },
     "execution_count": 4,
     "metadata": {},
     "output_type": "execute_result"
    }
   ],
   "source": [
    "tables = data.tables\n",
    "len(tables)"
   ]
  },
  {
   "cell_type": "code",
   "execution_count": 5,
   "metadata": {},
   "outputs": [
    {
     "data": {
      "text/plain": [
       "('IPM_assessment.csv', 'IPM_worker_profile.csv')"
      ]
     },
     "execution_count": 5,
     "metadata": {},
     "output_type": "execute_result"
    }
   ],
   "source": [
    "table1 = tables[0]\n",
    "table2 = tables[1]\n",
    "table1.url.string, table2.url.string"
   ]
  },
  {
   "cell_type": "code",
   "execution_count": 6,
   "metadata": {},
   "outputs": [],
   "source": [
    "fk = table1.tableSchema.foreignKeys[0]"
   ]
  },
  {
   "cell_type": "markdown",
   "metadata": {},
   "source": [
    "Problem: why does it have 'Unit_ID' in the row dict, instead of 'unit_id'???"
   ]
  },
  {
   "cell_type": "code",
   "execution_count": 7,
   "metadata": {},
   "outputs": [
    {
     "name": "stdout",
     "output_type": "stream",
     "text": [
      "alarm! OrderedDict([('Unit_ID', 'unit_1'), ('doc_ground_truth_value', '1.0'), ('doc_overall-truthfulness_value', 1), ('doc_confidence_value', '-1.0'), ('doc_correctness_value', 1), ('doc_neutrality_value', '1.0'), ('doc_comprehensibility_value', '1.0'), ('doc_precision_value', '1.0'), ('doc_completeness_value', '-1.0'), (\"doc_speaker's-trustworthiness_value\", '0.0'), ('doc_informativeness_value', '1.0'), ('doc_time_elapsed', '175.61'), ('doc_accesses', '1.0'), ('doc_assessment_quality', '2')])\n",
      "alarm! OrderedDict([('Unit_ID', 'unit_1'), ('doc_ground_truth_value', '2.0'), ('doc_overall-truthfulness_value', 2), ('doc_confidence_value', '0.0'), ('doc_correctness_value', 2), ('doc_neutrality_value', '-1.0'), ('doc_comprehensibility_value', '2.0'), ('doc_precision_value', '2.0'), ('doc_completeness_value', '2.0'), (\"doc_speaker's-trustworthiness_value\", '2.0'), ('doc_informativeness_value', '2.0'), ('doc_time_elapsed', '88.39'), ('doc_accesses', '1.0'), ('doc_assessment_quality', '2')])\n",
      "alarm! OrderedDict([('Unit_ID', 'unit_1'), ('doc_ground_truth_value', '1.0'), ('doc_overall-truthfulness_value', 2), ('doc_confidence_value', '0.0'), ('doc_correctness_value', 0), ('doc_neutrality_value', '-1.0'), ('doc_comprehensibility_value', '2.0'), ('doc_precision_value', '2.0'), ('doc_completeness_value', '-1.0'), (\"doc_speaker's-trustworthiness_value\", '0.0'), ('doc_informativeness_value', '1.0'), ('doc_time_elapsed', '84.6'), ('doc_accesses', '1.0'), ('doc_assessment_quality', '1')])\n"
     ]
    },
    {
     "name": "stderr",
     "output_type": "stream",
     "text": [
      "c:\\Users\\DafnevanKuppevelt\\Anaconda3\\envs\\eye-of-beholder\\lib\\site-packages\\csvw\\metadata.py:1368: UserWarning: Unspecified column \"doc_ground_truth_value\" in table IPM_assessment.csv\n",
      "  warnings.warn(\n",
      "c:\\Users\\DafnevanKuppevelt\\Anaconda3\\envs\\eye-of-beholder\\lib\\site-packages\\csvw\\metadata.py:1368: UserWarning: Unspecified column \"doc_confidence_value\" in table IPM_assessment.csv\n",
      "  warnings.warn(\n",
      "c:\\Users\\DafnevanKuppevelt\\Anaconda3\\envs\\eye-of-beholder\\lib\\site-packages\\csvw\\metadata.py:1368: UserWarning: Unspecified column \"doc_neutrality_value\" in table IPM_assessment.csv\n",
      "  warnings.warn(\n",
      "c:\\Users\\DafnevanKuppevelt\\Anaconda3\\envs\\eye-of-beholder\\lib\\site-packages\\csvw\\metadata.py:1368: UserWarning: Unspecified column \"doc_comprehensibility_value\" in table IPM_assessment.csv\n",
      "  warnings.warn(\n",
      "c:\\Users\\DafnevanKuppevelt\\Anaconda3\\envs\\eye-of-beholder\\lib\\site-packages\\csvw\\metadata.py:1368: UserWarning: Unspecified column \"doc_precision_value\" in table IPM_assessment.csv\n",
      "  warnings.warn(\n",
      "c:\\Users\\DafnevanKuppevelt\\Anaconda3\\envs\\eye-of-beholder\\lib\\site-packages\\csvw\\metadata.py:1368: UserWarning: Unspecified column \"doc_completeness_value\" in table IPM_assessment.csv\n",
      "  warnings.warn(\n",
      "c:\\Users\\DafnevanKuppevelt\\Anaconda3\\envs\\eye-of-beholder\\lib\\site-packages\\csvw\\metadata.py:1368: UserWarning: Unspecified column \"doc_speaker's-trustworthiness_value\" in table IPM_assessment.csv\n",
      "  warnings.warn(\n",
      "c:\\Users\\DafnevanKuppevelt\\Anaconda3\\envs\\eye-of-beholder\\lib\\site-packages\\csvw\\metadata.py:1368: UserWarning: Unspecified column \"doc_informativeness_value\" in table IPM_assessment.csv\n",
      "  warnings.warn(\n",
      "c:\\Users\\DafnevanKuppevelt\\Anaconda3\\envs\\eye-of-beholder\\lib\\site-packages\\csvw\\metadata.py:1368: UserWarning: Unspecified column \"doc_time_elapsed\" in table IPM_assessment.csv\n",
      "  warnings.warn(\n",
      "c:\\Users\\DafnevanKuppevelt\\Anaconda3\\envs\\eye-of-beholder\\lib\\site-packages\\csvw\\metadata.py:1368: UserWarning: Unspecified column \"doc_accesses\" in table IPM_assessment.csv\n",
      "  warnings.warn(\n",
      "c:\\Users\\DafnevanKuppevelt\\Anaconda3\\envs\\eye-of-beholder\\lib\\site-packages\\csvw\\metadata.py:1368: UserWarning: Unspecified column \"doc_assessment_quality\" in table IPM_assessment.csv\n",
      "  warnings.warn(\n"
     ]
    }
   ],
   "source": [
    "for i, row in enumerate(table1):\n",
    "    if i<3:\n",
    "        if any(row.get(col) is None for col in fk.columnReference):\n",
    "            print('alarm!', row)"
   ]
  },
  {
   "cell_type": "code",
   "execution_count": 8,
   "metadata": {},
   "outputs": [
    {
     "name": "stdout",
     "output_type": "stream",
     "text": [
      "OrderedDict([('unit_id', 'unit_1'), ('q_0_age_answer', '26-35'), ('q_0_school_answer', 'Some college (some community college, associate’s degree)'), ('q_0_taxes_answer', '30,000 to less than 40,000'), ('q_0_political_views_answer', 'Very liberal'), ('q_0_consideration_answer', 'Independent'), ('q_0_southern_border_answer', 'Disagree'), ('q_0_environment_answer', 'Agree'), ('q_0_age_value', '2.0'), ('q_0_school_value', '2.0'), ('q_0_taxes_value', '3.0'), ('q_0_political_views_value', '4.0'), ('q_0_consideration_value', '2.0'), ('q_0_southern_border_value', '1.0'), ('q_0_environment_value', '0.0'), ('q_1_farmers_score', '0'), ('q_2_marks_score', '1'), ('q_3_athletics_score', '0'), ('overall_crt_score', '1'), ('q_0_time_elapsed', '38.6'), ('q_1_time_elapsed', '17.98'), ('q_2_time_elapsed', '23.91'), ('q_3_time_elapsed', '274.19'), ('q_0_accesses', '1'), ('q_1_accesses', '1'), ('q_2_accesses', '1'), ('q_3_accesses', '1'), ('age_range', None), ('political_view', None)])\n",
      "OrderedDict([('unit_id', 'unit_3'), ('q_0_age_answer', '26-35'), ('q_0_school_answer', 'Postgraduate or professional degree, including master’s, doctorate, medical or law degree'), ('q_0_taxes_answer', '50,000 to less than 75,000'), ('q_0_political_views_answer', 'Liberal'), ('q_0_consideration_answer', 'Independent'), ('q_0_southern_border_answer', 'No opinion either way'), ('q_0_environment_answer', 'Agree'), ('q_0_age_value', '2.0'), ('q_0_school_value', '5.0'), ('q_0_taxes_value', '5.0'), ('q_0_political_views_value', '3.0'), ('q_0_consideration_value', '2.0'), ('q_0_southern_border_value', '2.0'), ('q_0_environment_value', '0.0'), ('q_1_farmers_score', '1'), ('q_2_marks_score', '1'), ('q_3_athletics_score', '1'), ('overall_crt_score', '3'), ('q_0_time_elapsed', '33.94'), ('q_1_time_elapsed', '51.06'), ('q_2_time_elapsed', '301.34'), ('q_3_time_elapsed', '82.71'), ('q_0_accesses', '1'), ('q_1_accesses', '1'), ('q_2_accesses', '1'), ('q_3_accesses', '1'), ('age_range', None), ('political_view', None)])\n",
      "OrderedDict([('unit_id', 'unit_5'), ('q_0_age_answer', '26-35'), ('q_0_school_answer', 'Four year college degree/bachelor’s degree'), ('q_0_taxes_answer', '50,000 to less than 75,000'), ('q_0_political_views_answer', 'Very liberal'), ('q_0_consideration_answer', 'Republican'), ('q_0_southern_border_answer', 'Agree'), ('q_0_environment_answer', 'Agree'), ('q_0_age_value', '2.0'), ('q_0_school_value', '3.0'), ('q_0_taxes_value', '5.0'), ('q_0_political_views_value', '4.0'), ('q_0_consideration_value', '0.0'), ('q_0_southern_border_value', '0.0'), ('q_0_environment_value', '0.0'), ('q_1_farmers_score', '0'), ('q_2_marks_score', '0'), ('q_3_athletics_score', '0'), ('overall_crt_score', '0'), ('q_0_time_elapsed', '80.59'), ('q_1_time_elapsed', '37.46'), ('q_2_time_elapsed', '54.41'), ('q_3_time_elapsed', '99.68'), ('q_0_accesses', '1'), ('q_1_accesses', '1'), ('q_2_accesses', '1'), ('q_3_accesses', '1'), ('age_range', None), ('political_view', None)])\n"
     ]
    },
    {
     "name": "stderr",
     "output_type": "stream",
     "text": [
      "c:\\Users\\DafnevanKuppevelt\\Anaconda3\\envs\\eye-of-beholder\\lib\\site-packages\\csvw\\metadata.py:1368: UserWarning: Unspecified column \"unit_id\" in table IPM_worker_profile.csv\n",
      "  warnings.warn(\n",
      "c:\\Users\\DafnevanKuppevelt\\Anaconda3\\envs\\eye-of-beholder\\lib\\site-packages\\csvw\\metadata.py:1368: UserWarning: Unspecified column \"q_0_age_answer\" in table IPM_worker_profile.csv\n",
      "  warnings.warn(\n",
      "c:\\Users\\DafnevanKuppevelt\\Anaconda3\\envs\\eye-of-beholder\\lib\\site-packages\\csvw\\metadata.py:1368: UserWarning: Unspecified column \"q_0_school_answer\" in table IPM_worker_profile.csv\n",
      "  warnings.warn(\n",
      "c:\\Users\\DafnevanKuppevelt\\Anaconda3\\envs\\eye-of-beholder\\lib\\site-packages\\csvw\\metadata.py:1368: UserWarning: Unspecified column \"q_0_taxes_answer\" in table IPM_worker_profile.csv\n",
      "  warnings.warn(\n",
      "c:\\Users\\DafnevanKuppevelt\\Anaconda3\\envs\\eye-of-beholder\\lib\\site-packages\\csvw\\metadata.py:1368: UserWarning: Unspecified column \"q_0_political_views_answer\" in table IPM_worker_profile.csv\n",
      "  warnings.warn(\n",
      "c:\\Users\\DafnevanKuppevelt\\Anaconda3\\envs\\eye-of-beholder\\lib\\site-packages\\csvw\\metadata.py:1368: UserWarning: Unspecified column \"q_0_consideration_answer\" in table IPM_worker_profile.csv\n",
      "  warnings.warn(\n",
      "c:\\Users\\DafnevanKuppevelt\\Anaconda3\\envs\\eye-of-beholder\\lib\\site-packages\\csvw\\metadata.py:1368: UserWarning: Unspecified column \"q_0_southern_border_answer\" in table IPM_worker_profile.csv\n",
      "  warnings.warn(\n",
      "c:\\Users\\DafnevanKuppevelt\\Anaconda3\\envs\\eye-of-beholder\\lib\\site-packages\\csvw\\metadata.py:1368: UserWarning: Unspecified column \"q_0_environment_answer\" in table IPM_worker_profile.csv\n",
      "  warnings.warn(\n",
      "c:\\Users\\DafnevanKuppevelt\\Anaconda3\\envs\\eye-of-beholder\\lib\\site-packages\\csvw\\metadata.py:1368: UserWarning: Unspecified column \"q_0_age_value\" in table IPM_worker_profile.csv\n",
      "  warnings.warn(\n",
      "c:\\Users\\DafnevanKuppevelt\\Anaconda3\\envs\\eye-of-beholder\\lib\\site-packages\\csvw\\metadata.py:1368: UserWarning: Unspecified column \"q_0_school_value\" in table IPM_worker_profile.csv\n",
      "  warnings.warn(\n",
      "c:\\Users\\DafnevanKuppevelt\\Anaconda3\\envs\\eye-of-beholder\\lib\\site-packages\\csvw\\metadata.py:1368: UserWarning: Unspecified column \"q_0_taxes_value\" in table IPM_worker_profile.csv\n",
      "  warnings.warn(\n",
      "c:\\Users\\DafnevanKuppevelt\\Anaconda3\\envs\\eye-of-beholder\\lib\\site-packages\\csvw\\metadata.py:1368: UserWarning: Unspecified column \"q_0_political_views_value\" in table IPM_worker_profile.csv\n",
      "  warnings.warn(\n",
      "c:\\Users\\DafnevanKuppevelt\\Anaconda3\\envs\\eye-of-beholder\\lib\\site-packages\\csvw\\metadata.py:1368: UserWarning: Unspecified column \"q_0_consideration_value\" in table IPM_worker_profile.csv\n",
      "  warnings.warn(\n",
      "c:\\Users\\DafnevanKuppevelt\\Anaconda3\\envs\\eye-of-beholder\\lib\\site-packages\\csvw\\metadata.py:1368: UserWarning: Unspecified column \"q_0_southern_border_value\" in table IPM_worker_profile.csv\n",
      "  warnings.warn(\n",
      "c:\\Users\\DafnevanKuppevelt\\Anaconda3\\envs\\eye-of-beholder\\lib\\site-packages\\csvw\\metadata.py:1368: UserWarning: Unspecified column \"q_0_environment_value\" in table IPM_worker_profile.csv\n",
      "  warnings.warn(\n",
      "c:\\Users\\DafnevanKuppevelt\\Anaconda3\\envs\\eye-of-beholder\\lib\\site-packages\\csvw\\metadata.py:1368: UserWarning: Unspecified column \"q_1_farmers_score\" in table IPM_worker_profile.csv\n",
      "  warnings.warn(\n",
      "c:\\Users\\DafnevanKuppevelt\\Anaconda3\\envs\\eye-of-beholder\\lib\\site-packages\\csvw\\metadata.py:1368: UserWarning: Unspecified column \"q_2_marks_score\" in table IPM_worker_profile.csv\n",
      "  warnings.warn(\n",
      "c:\\Users\\DafnevanKuppevelt\\Anaconda3\\envs\\eye-of-beholder\\lib\\site-packages\\csvw\\metadata.py:1368: UserWarning: Unspecified column \"q_3_athletics_score\" in table IPM_worker_profile.csv\n",
      "  warnings.warn(\n",
      "c:\\Users\\DafnevanKuppevelt\\Anaconda3\\envs\\eye-of-beholder\\lib\\site-packages\\csvw\\metadata.py:1368: UserWarning: Unspecified column \"overall_crt_score\" in table IPM_worker_profile.csv\n",
      "  warnings.warn(\n",
      "c:\\Users\\DafnevanKuppevelt\\Anaconda3\\envs\\eye-of-beholder\\lib\\site-packages\\csvw\\metadata.py:1368: UserWarning: Unspecified column \"q_0_time_elapsed\" in table IPM_worker_profile.csv\n",
      "  warnings.warn(\n",
      "c:\\Users\\DafnevanKuppevelt\\Anaconda3\\envs\\eye-of-beholder\\lib\\site-packages\\csvw\\metadata.py:1368: UserWarning: Unspecified column \"q_1_time_elapsed\" in table IPM_worker_profile.csv\n",
      "  warnings.warn(\n",
      "c:\\Users\\DafnevanKuppevelt\\Anaconda3\\envs\\eye-of-beholder\\lib\\site-packages\\csvw\\metadata.py:1368: UserWarning: Unspecified column \"q_2_time_elapsed\" in table IPM_worker_profile.csv\n",
      "  warnings.warn(\n",
      "c:\\Users\\DafnevanKuppevelt\\Anaconda3\\envs\\eye-of-beholder\\lib\\site-packages\\csvw\\metadata.py:1368: UserWarning: Unspecified column \"q_3_time_elapsed\" in table IPM_worker_profile.csv\n",
      "  warnings.warn(\n",
      "c:\\Users\\DafnevanKuppevelt\\Anaconda3\\envs\\eye-of-beholder\\lib\\site-packages\\csvw\\metadata.py:1368: UserWarning: Unspecified column \"q_0_accesses\" in table IPM_worker_profile.csv\n",
      "  warnings.warn(\n",
      "c:\\Users\\DafnevanKuppevelt\\Anaconda3\\envs\\eye-of-beholder\\lib\\site-packages\\csvw\\metadata.py:1368: UserWarning: Unspecified column \"q_1_accesses\" in table IPM_worker_profile.csv\n",
      "  warnings.warn(\n",
      "c:\\Users\\DafnevanKuppevelt\\Anaconda3\\envs\\eye-of-beholder\\lib\\site-packages\\csvw\\metadata.py:1368: UserWarning: Unspecified column \"q_2_accesses\" in table IPM_worker_profile.csv\n",
      "  warnings.warn(\n",
      "c:\\Users\\DafnevanKuppevelt\\Anaconda3\\envs\\eye-of-beholder\\lib\\site-packages\\csvw\\metadata.py:1368: UserWarning: Unspecified column \"q_3_accesses\" in table IPM_worker_profile.csv\n",
      "  warnings.warn(\n"
     ]
    }
   ],
   "source": [
    "for i, row in enumerate(table2):\n",
    "    if i<3:\n",
    "        print(row)"
   ]
  },
  {
   "cell_type": "code",
   "execution_count": null,
   "metadata": {},
   "outputs": [],
   "source": [
    "table1.check_primary_key()"
   ]
  },
  {
   "cell_type": "code",
   "execution_count": null,
   "metadata": {},
   "outputs": [],
   "source": [
    "table2.check_primary_key()"
   ]
  },
  {
   "cell_type": "code",
   "execution_count": null,
   "metadata": {},
   "outputs": [],
   "source": []
  }
 ],
 "metadata": {
  "kernelspec": {
   "display_name": "Python 3.8.13 ('eye-of-beholder')",
   "language": "python",
   "name": "python3"
  },
  "language_info": {
   "codemirror_mode": {
    "name": "ipython",
    "version": 3
   },
   "file_extension": ".py",
   "mimetype": "text/x-python",
   "name": "python",
   "nbconvert_exporter": "python",
   "pygments_lexer": "ipython3",
   "version": "3.8.13"
  },
  "orig_nbformat": 4,
  "vscode": {
   "interpreter": {
    "hash": "d657aa1f4ef3930efdbedd317c578c5e9a319b1107ad5e62770d8ffd40d76cd5"
   }
  }
 },
 "nbformat": 4,
 "nbformat_minor": 2
}
