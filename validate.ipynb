{
 "cells": [
  {
   "cell_type": "code",
   "execution_count": 23,
   "metadata": {},
   "outputs": [],
   "source": [
    "import csvw"
   ]
  },
  {
   "cell_type": "code",
   "execution_count": 24,
   "metadata": {},
   "outputs": [
    {
     "data": {
      "text/plain": [
       "<csvw.metadata.CSVW at 0x22013675910>"
      ]
     },
     "execution_count": 24,
     "metadata": {},
     "output_type": "execute_result"
    }
   ],
   "source": [
    "data = csvw.CSVW('IPM_assessment.csv', 'metadata.json')\n",
    "data"
   ]
  },
  {
   "cell_type": "markdown",
   "metadata": {},
   "source": [
    "The following command returns False when there are warnings. If there are errors, the code will also give an error."
   ]
  },
  {
   "cell_type": "code",
   "execution_count": 25,
   "metadata": {},
   "outputs": [
    {
     "data": {
      "text/plain": [
       "False"
      ]
     },
     "execution_count": 25,
     "metadata": {},
     "output_type": "execute_result"
    }
   ],
   "source": [
    "data.is_valid"
   ]
  },
  {
   "cell_type": "code",
   "execution_count": 26,
   "metadata": {},
   "outputs": [
    {
     "name": "stdout",
     "output_type": "stream",
     "text": [
      "Column number mismatch\n",
      "Unspecified column \"q_0_age_answer\" in table IPM_worker_profile.csv\n",
      "Unspecified column \"q_0_school_answer\" in table IPM_worker_profile.csv\n",
      "Unspecified column \"q_0_taxes_answer\" in table IPM_worker_profile.csv\n",
      "Unspecified column \"q_0_political_views_answer\" in table IPM_worker_profile.csv\n",
      "Unspecified column \"q_0_consideration_answer\" in table IPM_worker_profile.csv\n",
      "Unspecified column \"q_0_southern_border_answer\" in table IPM_worker_profile.csv\n",
      "Unspecified column \"q_0_environment_answer\" in table IPM_worker_profile.csv\n",
      "Unspecified column \"q_0_age_value\" in table IPM_worker_profile.csv\n",
      "Unspecified column \"q_0_school_value\" in table IPM_worker_profile.csv\n",
      "Unspecified column \"q_0_taxes_value\" in table IPM_worker_profile.csv\n",
      "Unspecified column \"q_0_political_views_value\" in table IPM_worker_profile.csv\n",
      "Unspecified column \"q_0_consideration_value\" in table IPM_worker_profile.csv\n",
      "Unspecified column \"q_0_southern_border_value\" in table IPM_worker_profile.csv\n",
      "Unspecified column \"q_0_environment_value\" in table IPM_worker_profile.csv\n",
      "Unspecified column \"q_1_farmers_score\" in table IPM_worker_profile.csv\n",
      "Unspecified column \"q_2_marks_score\" in table IPM_worker_profile.csv\n",
      "Unspecified column \"q_3_athletics_score\" in table IPM_worker_profile.csv\n",
      "Unspecified column \"overall_crt_score\" in table IPM_worker_profile.csv\n",
      "Unspecified column \"q_0_time_elapsed\" in table IPM_worker_profile.csv\n",
      "Unspecified column \"q_1_time_elapsed\" in table IPM_worker_profile.csv\n",
      "Unspecified column \"q_2_time_elapsed\" in table IPM_worker_profile.csv\n",
      "Unspecified column \"q_3_time_elapsed\" in table IPM_worker_profile.csv\n",
      "Unspecified column \"q_0_accesses\" in table IPM_worker_profile.csv\n",
      "Unspecified column \"q_1_accesses\" in table IPM_worker_profile.csv\n",
      "Unspecified column \"q_2_accesses\" in table IPM_worker_profile.csv\n",
      "Unspecified column \"q_3_accesses\" in table IPM_worker_profile.csv\n",
      "Unspecified column \"doc_ground_truth_value\" in table IPM_assessment.csv\n",
      "Unspecified column \"doc_confidence_value\" in table IPM_assessment.csv\n",
      "Unspecified column \"doc_neutrality_value\" in table IPM_assessment.csv\n",
      "Unspecified column \"doc_comprehensibility_value\" in table IPM_assessment.csv\n",
      "Unspecified column \"doc_precision_value\" in table IPM_assessment.csv\n",
      "Unspecified column \"doc_completeness_value\" in table IPM_assessment.csv\n",
      "Unspecified column \"doc_speaker's-trustworthiness_value\" in table IPM_assessment.csv\n",
      "Unspecified column \"doc_informativeness_value\" in table IPM_assessment.csv\n",
      "Unspecified column \"doc_time_elapsed\" in table IPM_assessment.csv\n",
      "Unspecified column \"doc_accesses\" in table IPM_assessment.csv\n",
      "Unspecified column \"doc_assessment_quality\" in table IPM_assessment.csv\n"
     ]
    }
   ],
   "source": [
    "for warning in data.warnings:\n",
    "    print(warning.message)"
   ]
  },
  {
   "cell_type": "code",
   "execution_count": 4,
   "metadata": {},
   "outputs": [
    {
     "data": {
      "text/plain": [
       "2"
      ]
     },
     "execution_count": 4,
     "metadata": {},
     "output_type": "execute_result"
    }
   ],
   "source": [
    "tables = data.tables\n",
    "len(tables)"
   ]
  },
  {
   "cell_type": "code",
   "execution_count": 5,
   "metadata": {},
   "outputs": [
    {
     "data": {
      "text/plain": [
       "('IPM_assessment.csv', 'IPM_worker_profile.csv')"
      ]
     },
     "execution_count": 5,
     "metadata": {},
     "output_type": "execute_result"
    }
   ],
   "source": [
    "table1 = tables[0]\n",
    "table2 = tables[1]\n",
    "table1.url.string, table2.url.string"
   ]
  },
  {
   "cell_type": "code",
   "execution_count": 27,
   "metadata": {},
   "outputs": [],
   "source": [
    "data.tablegroup.validate_schema()"
   ]
  }
 ],
 "metadata": {
  "kernelspec": {
   "display_name": "Python 3.8.13 ('eye-of-beholder')",
   "language": "python",
   "name": "python3"
  },
  "language_info": {
   "codemirror_mode": {
    "name": "ipython",
    "version": 3
   },
   "file_extension": ".py",
   "mimetype": "text/x-python",
   "name": "python",
   "nbconvert_exporter": "python",
   "pygments_lexer": "ipython3",
   "version": "3.8.13"
  },
  "orig_nbformat": 4,
  "vscode": {
   "interpreter": {
    "hash": "d657aa1f4ef3930efdbedd317c578c5e9a319b1107ad5e62770d8ffd40d76cd5"
   }
  }
 },
 "nbformat": 4,
 "nbformat_minor": 2
}
