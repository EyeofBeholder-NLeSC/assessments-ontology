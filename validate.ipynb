{
 "cells": [
  {
   "cell_type": "code",
   "execution_count": 49,
   "metadata": {},
   "outputs": [],
   "source": [
    "import csvw"
   ]
  },
  {
   "cell_type": "code",
   "execution_count": 50,
   "metadata": {},
   "outputs": [
    {
     "data": {
      "text/plain": [
       "<csvw.metadata.CSVW at 0x22016e1bcd0>"
      ]
     },
     "execution_count": 50,
     "metadata": {},
     "output_type": "execute_result"
    }
   ],
   "source": [
    "data = csvw.CSVW('IPM_assessment.csv', 'metadata.json')\n",
    "data"
   ]
  },
  {
   "cell_type": "markdown",
   "metadata": {},
   "source": [
    "The following command returns False when there are warnings. If there are errors, the code will also give an error."
   ]
  },
  {
   "cell_type": "code",
   "execution_count": 51,
   "metadata": {},
   "outputs": [
    {
     "data": {
      "text/plain": [
       "True"
      ]
     },
     "execution_count": 51,
     "metadata": {},
     "output_type": "execute_result"
    }
   ],
   "source": [
    "data.is_valid"
   ]
  },
  {
   "cell_type": "code",
   "execution_count": 52,
   "metadata": {},
   "outputs": [],
   "source": [
    "for warning in data.warnings:\n",
    "    print(warning.message)"
   ]
  },
  {
   "cell_type": "code",
   "execution_count": 53,
   "metadata": {},
   "outputs": [
    {
     "data": {
      "text/plain": [
       "2"
      ]
     },
     "execution_count": 53,
     "metadata": {},
     "output_type": "execute_result"
    }
   ],
   "source": [
    "tables = data.tables\n",
    "len(tables)"
   ]
  },
  {
   "cell_type": "code",
   "execution_count": 54,
   "metadata": {},
   "outputs": [
    {
     "data": {
      "text/plain": [
       "('IPM_assessment.csv', 'IPM_worker_profile.csv')"
      ]
     },
     "execution_count": 54,
     "metadata": {},
     "output_type": "execute_result"
    }
   ],
   "source": [
    "table1 = tables[0]\n",
    "table2 = tables[1]\n",
    "table1.url.string, table2.url.string"
   ]
  },
  {
   "cell_type": "code",
   "execution_count": 55,
   "metadata": {},
   "outputs": [],
   "source": [
    "data.tablegroup.validate_schema()"
   ]
  },
  {
   "cell_type": "code",
   "execution_count": 56,
   "metadata": {},
   "outputs": [],
   "source": [
    "import pandas as pd\n",
    "\n",
    "df_assesments = pd.DataFrame(data.tables[0])\n",
    "df_workers = pd.DataFrame(data.tables[1])"
   ]
  },
  {
   "cell_type": "code",
   "execution_count": 57,
   "metadata": {},
   "outputs": [
    {
     "data": {
      "text/html": [
       "<div>\n",
       "<style scoped>\n",
       "    .dataframe tbody tr th:only-of-type {\n",
       "        vertical-align: middle;\n",
       "    }\n",
       "\n",
       "    .dataframe tbody tr th {\n",
       "        vertical-align: top;\n",
       "    }\n",
       "\n",
       "    .dataframe thead th {\n",
       "        text-align: right;\n",
       "    }\n",
       "</style>\n",
       "<table border=\"1\" class=\"dataframe\">\n",
       "  <thead>\n",
       "    <tr style=\"text-align: right;\">\n",
       "      <th></th>\n",
       "      <th>unit_id</th>\n",
       "      <th>age_range</th>\n",
       "      <th>political_view</th>\n",
       "    </tr>\n",
       "  </thead>\n",
       "  <tbody>\n",
       "    <tr>\n",
       "      <th>0</th>\n",
       "      <td>unit_1</td>\n",
       "      <td>26-35</td>\n",
       "      <td>Very liberal</td>\n",
       "    </tr>\n",
       "    <tr>\n",
       "      <th>1</th>\n",
       "      <td>unit_3</td>\n",
       "      <td>26-35</td>\n",
       "      <td>Liberal</td>\n",
       "    </tr>\n",
       "    <tr>\n",
       "      <th>2</th>\n",
       "      <td>unit_5</td>\n",
       "      <td>26-35</td>\n",
       "      <td>Very liberal</td>\n",
       "    </tr>\n",
       "    <tr>\n",
       "      <th>3</th>\n",
       "      <td>unit_7</td>\n",
       "      <td>50-80</td>\n",
       "      <td>Very liberal</td>\n",
       "    </tr>\n",
       "    <tr>\n",
       "      <th>4</th>\n",
       "      <td>unit_9</td>\n",
       "      <td>19-25</td>\n",
       "      <td>Moderate</td>\n",
       "    </tr>\n",
       "  </tbody>\n",
       "</table>\n",
       "</div>"
      ],
      "text/plain": [
       "  unit_id age_range political_view\n",
       "0  unit_1     26-35   Very liberal\n",
       "1  unit_3     26-35        Liberal\n",
       "2  unit_5     26-35   Very liberal\n",
       "3  unit_7     50-80   Very liberal\n",
       "4  unit_9     19-25       Moderate"
      ]
     },
     "execution_count": 57,
     "metadata": {},
     "output_type": "execute_result"
    }
   ],
   "source": [
    "df_workers.head()"
   ]
  },
  {
   "cell_type": "code",
   "execution_count": 58,
   "metadata": {},
   "outputs": [
    {
     "data": {
      "text/plain": [
       "unit_id           object\n",
       "age_range         object\n",
       "political_view    object\n",
       "dtype: object"
      ]
     },
     "execution_count": 58,
     "metadata": {},
     "output_type": "execute_result"
    }
   ],
   "source": [
    "df_workers.dtypes"
   ]
  },
  {
   "cell_type": "code",
   "execution_count": 59,
   "metadata": {},
   "outputs": [
    {
     "data": {
      "text/plain": [
       "unit_id                           object\n",
       "doc_overall-truthfulness_value     int64\n",
       "doc_correctness_value              int64\n",
       "dtype: object"
      ]
     },
     "execution_count": 59,
     "metadata": {},
     "output_type": "execute_result"
    }
   ],
   "source": [
    "df_assesments.dtypes"
   ]
  },
  {
   "cell_type": "code",
   "execution_count": 60,
   "metadata": {},
   "outputs": [
    {
     "data": {
      "text/plain": [
       "[Column(common_props={'dc:description': 'An identifier for the crowdsourcing worker.'}, at_props={}, aboutUrl=None, datatype=Datatype(common_props={}, at_props={}, base='string', format=None, length=None, minLength=None, maxLength=None, minimum=None, maximum=None, minInclusive=None, maxInclusive=None, minExclusive=None, maxExclusive=None), default='', lang='und', null=[''], ordered=None, propertyUrl=None, required=True, separator=None, textDirection=None, valueUrl=None, name='unit_id', suppressOutput=False, titles=NaturalLanguage([(None, ['unit_id', 'Unit_ID'])]), virtual=False),\n",
       " Column(common_props={'dc:description': 'Overall truthfulness'}, at_props={}, aboutUrl=None, datatype=Datatype(common_props={}, at_props={}, base='integer', format=None, length=None, minLength=None, maxLength=None, minimum=None, maximum=None, minInclusive=None, maxInclusive=None, minExclusive=None, maxExclusive=None), default='', lang='und', null=[''], ordered=None, propertyUrl=None, required=None, separator=None, textDirection=None, valueUrl=None, name='doc_overall-truthfulness_value', suppressOutput=False, titles=NaturalLanguage([(None, ['Overall Truthfulness'])]), virtual=False),\n",
       " Column(common_props={'dc:description': 'Correctness'}, at_props={}, aboutUrl=None, datatype=Datatype(common_props={}, at_props={}, base='integer', format=None, length=None, minLength=None, maxLength=None, minimum=None, maximum=None, minInclusive=None, maxInclusive=None, minExclusive=None, maxExclusive=None), default='', lang='und', null=[''], ordered=None, propertyUrl=None, required=None, separator=None, textDirection=None, valueUrl=None, name='doc_correctness_value', suppressOutput=False, titles=NaturalLanguage([(None, ['Correctness'])]), virtual=False)]"
      ]
     },
     "execution_count": 60,
     "metadata": {},
     "output_type": "execute_result"
    }
   ],
   "source": [
    "table1.tableSchema.columns"
   ]
  },
  {
   "cell_type": "code",
   "execution_count": null,
   "metadata": {},
   "outputs": [],
   "source": []
  }
 ],
 "metadata": {
  "kernelspec": {
   "display_name": "Python 3.8.13 ('eye-of-beholder')",
   "language": "python",
   "name": "python3"
  },
  "language_info": {
   "codemirror_mode": {
    "name": "ipython",
    "version": 3
   },
   "file_extension": ".py",
   "mimetype": "text/x-python",
   "name": "python",
   "nbconvert_exporter": "python",
   "pygments_lexer": "ipython3",
   "version": "3.8.13"
  },
  "orig_nbformat": 4,
  "vscode": {
   "interpreter": {
    "hash": "d657aa1f4ef3930efdbedd317c578c5e9a319b1107ad5e62770d8ffd40d76cd5"
   }
  }
 },
 "nbformat": 4,
 "nbformat_minor": 2
}
